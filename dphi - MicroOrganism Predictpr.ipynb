{
 "cells": [
  {
   "cell_type": "code",
   "execution_count": 1,
   "metadata": {},
   "outputs": [
    {
     "data": {
      "text/html": [
       "<div>\n",
       "<style scoped>\n",
       "    .dataframe tbody tr th:only-of-type {\n",
       "        vertical-align: middle;\n",
       "    }\n",
       "\n",
       "    .dataframe tbody tr th {\n",
       "        vertical-align: top;\n",
       "    }\n",
       "\n",
       "    .dataframe thead th {\n",
       "        text-align: right;\n",
       "    }\n",
       "</style>\n",
       "<table border=\"1\" class=\"dataframe\">\n",
       "  <thead>\n",
       "    <tr style=\"text-align: right;\">\n",
       "      <th></th>\n",
       "      <th>Solidity</th>\n",
       "      <th>Eccentricity</th>\n",
       "      <th>EquivDiameter</th>\n",
       "      <th>Extrema</th>\n",
       "      <th>FilledArea</th>\n",
       "      <th>Extent</th>\n",
       "      <th>Orientation</th>\n",
       "      <th>EulerNumber</th>\n",
       "      <th>BoundingBox1</th>\n",
       "      <th>BoundingBox2</th>\n",
       "      <th>...</th>\n",
       "      <th>ConvexHull3</th>\n",
       "      <th>ConvexHull4</th>\n",
       "      <th>MajorAxisLength</th>\n",
       "      <th>MinorAxisLength</th>\n",
       "      <th>Perimeter</th>\n",
       "      <th>ConvexArea</th>\n",
       "      <th>Centroid1</th>\n",
       "      <th>Centroid2</th>\n",
       "      <th>Area</th>\n",
       "      <th>microorganism</th>\n",
       "    </tr>\n",
       "  </thead>\n",
       "  <tbody>\n",
       "    <tr>\n",
       "      <th>0</th>\n",
       "      <td>0.711636</td>\n",
       "      <td>0.673498</td>\n",
       "      <td>0.109069</td>\n",
       "      <td>0.870544</td>\n",
       "      <td>0.010808</td>\n",
       "      <td>0.660599</td>\n",
       "      <td>0.094353</td>\n",
       "      <td>0.987915</td>\n",
       "      <td>0.870476</td>\n",
       "      <td>0.447276</td>\n",
       "      <td>...</td>\n",
       "      <td>0.877460</td>\n",
       "      <td>0.871746</td>\n",
       "      <td>0.025669</td>\n",
       "      <td>0.028256</td>\n",
       "      <td>0.010776</td>\n",
       "      <td>0.001776</td>\n",
       "      <td>0.878873</td>\n",
       "      <td>0.453973</td>\n",
       "      <td>0.020195</td>\n",
       "      <td>1</td>\n",
       "    </tr>\n",
       "    <tr>\n",
       "      <th>1</th>\n",
       "      <td>0.184271</td>\n",
       "      <td>0.865533</td>\n",
       "      <td>0.181675</td>\n",
       "      <td>0.306442</td>\n",
       "      <td>0.021235</td>\n",
       "      <td>0.183804</td>\n",
       "      <td>0.484926</td>\n",
       "      <td>0.974488</td>\n",
       "      <td>0.284444</td>\n",
       "      <td>0.345343</td>\n",
       "      <td>...</td>\n",
       "      <td>0.295238</td>\n",
       "      <td>0.290794</td>\n",
       "      <td>0.128062</td>\n",
       "      <td>0.077815</td>\n",
       "      <td>0.044747</td>\n",
       "      <td>0.016309</td>\n",
       "      <td>0.325508</td>\n",
       "      <td>0.360384</td>\n",
       "      <td>0.045702</td>\n",
       "      <td>2</td>\n",
       "    </tr>\n",
       "    <tr>\n",
       "      <th>2</th>\n",
       "      <td>0.431175</td>\n",
       "      <td>0.679469</td>\n",
       "      <td>0.172644</td>\n",
       "      <td>0.750469</td>\n",
       "      <td>0.020929</td>\n",
       "      <td>0.380940</td>\n",
       "      <td>0.891717</td>\n",
       "      <td>0.946626</td>\n",
       "      <td>0.707302</td>\n",
       "      <td>0.227592</td>\n",
       "      <td>...</td>\n",
       "      <td>0.729524</td>\n",
       "      <td>0.723810</td>\n",
       "      <td>0.065495</td>\n",
       "      <td>0.062696</td>\n",
       "      <td>0.049242</td>\n",
       "      <td>0.006400</td>\n",
       "      <td>0.739531</td>\n",
       "      <td>0.255860</td>\n",
       "      <td>0.042004</td>\n",
       "      <td>2</td>\n",
       "    </tr>\n",
       "    <tr>\n",
       "      <th>3</th>\n",
       "      <td>0.712849</td>\n",
       "      <td>0.991839</td>\n",
       "      <td>0.240241</td>\n",
       "      <td>0.271420</td>\n",
       "      <td>0.036976</td>\n",
       "      <td>0.700643</td>\n",
       "      <td>0.016835</td>\n",
       "      <td>0.975159</td>\n",
       "      <td>0.268571</td>\n",
       "      <td>0.468366</td>\n",
       "      <td>...</td>\n",
       "      <td>0.269841</td>\n",
       "      <td>0.268571</td>\n",
       "      <td>0.146561</td>\n",
       "      <td>0.020286</td>\n",
       "      <td>0.035455</td>\n",
       "      <td>0.006678</td>\n",
       "      <td>0.267614</td>\n",
       "      <td>0.568813</td>\n",
       "      <td>0.073303</td>\n",
       "      <td>4</td>\n",
       "    </tr>\n",
       "    <tr>\n",
       "      <th>4</th>\n",
       "      <td>0.338077</td>\n",
       "      <td>0.996782</td>\n",
       "      <td>0.123578</td>\n",
       "      <td>0.045654</td>\n",
       "      <td>0.011389</td>\n",
       "      <td>0.088682</td>\n",
       "      <td>0.219150</td>\n",
       "      <td>0.982544</td>\n",
       "      <td>0.041905</td>\n",
       "      <td>0.630931</td>\n",
       "      <td>...</td>\n",
       "      <td>0.041905</td>\n",
       "      <td>0.041905</td>\n",
       "      <td>0.134704</td>\n",
       "      <td>0.011038</td>\n",
       "      <td>0.034491</td>\n",
       "      <td>0.004833</td>\n",
       "      <td>0.071762</td>\n",
       "      <td>0.699979</td>\n",
       "      <td>0.024521</td>\n",
       "      <td>2</td>\n",
       "    </tr>\n",
       "  </tbody>\n",
       "</table>\n",
       "<p>5 rows × 24 columns</p>\n",
       "</div>"
      ],
      "text/plain": [
       "   Solidity  Eccentricity  EquivDiameter   Extrema  FilledArea    Extent  \\\n",
       "0  0.711636      0.673498       0.109069  0.870544    0.010808  0.660599   \n",
       "1  0.184271      0.865533       0.181675  0.306442    0.021235  0.183804   \n",
       "2  0.431175      0.679469       0.172644  0.750469    0.020929  0.380940   \n",
       "3  0.712849      0.991839       0.240241  0.271420    0.036976  0.700643   \n",
       "4  0.338077      0.996782       0.123578  0.045654    0.011389  0.088682   \n",
       "\n",
       "   Orientation  EulerNumber  BoundingBox1  BoundingBox2      ...        \\\n",
       "0     0.094353     0.987915      0.870476      0.447276      ...         \n",
       "1     0.484926     0.974488      0.284444      0.345343      ...         \n",
       "2     0.891717     0.946626      0.707302      0.227592      ...         \n",
       "3     0.016835     0.975159      0.268571      0.468366      ...         \n",
       "4     0.219150     0.982544      0.041905      0.630931      ...         \n",
       "\n",
       "   ConvexHull3  ConvexHull4  MajorAxisLength  MinorAxisLength  Perimeter  \\\n",
       "0     0.877460     0.871746         0.025669         0.028256   0.010776   \n",
       "1     0.295238     0.290794         0.128062         0.077815   0.044747   \n",
       "2     0.729524     0.723810         0.065495         0.062696   0.049242   \n",
       "3     0.269841     0.268571         0.146561         0.020286   0.035455   \n",
       "4     0.041905     0.041905         0.134704         0.011038   0.034491   \n",
       "\n",
       "   ConvexArea  Centroid1  Centroid2      Area  microorganism  \n",
       "0    0.001776   0.878873   0.453973  0.020195              1  \n",
       "1    0.016309   0.325508   0.360384  0.045702              2  \n",
       "2    0.006400   0.739531   0.255860  0.042004              2  \n",
       "3    0.006678   0.267614   0.568813  0.073303              4  \n",
       "4    0.004833   0.071762   0.699979  0.024521              2  \n",
       "\n",
       "[5 rows x 24 columns]"
      ]
     },
     "execution_count": 1,
     "metadata": {},
     "output_type": "execute_result"
    }
   ],
   "source": [
    "import pandas as pd\n",
    "\n",
    "mo_data = pd.read_csv(\"https://raw.githubusercontent.com/dphi-official/Datasets/master/sukhna_dhanas/train_set_label.csv\" )\n",
    "\n",
    "mo_data.head()"
   ]
  },
  {
   "cell_type": "code",
   "execution_count": 5,
   "metadata": {},
   "outputs": [
    {
     "data": {
      "text/plain": [
       "[1, 2, 3, 4]"
      ]
     },
     "execution_count": 5,
     "metadata": {},
     "output_type": "execute_result"
    }
   ],
   "source": [
    "list(set(mo_data.microorganism))"
   ]
  },
  {
   "cell_type": "code",
   "execution_count": 2,
   "metadata": {},
   "outputs": [
    {
     "name": "stdout",
     "output_type": "stream",
     "text": [
      "(13824, 23)\n",
      "(13824,)\n"
     ]
    }
   ],
   "source": [
    "X = mo_data.drop(['microorganism'], axis=1)\n",
    "Y = mo_data.microorganism\n",
    "\n",
    "print(X.shape)\n",
    "print(Y.shape)\n",
    "\n",
    "xData = X.values\n",
    "yData = Y.values"
   ]
  },
  {
   "cell_type": "code",
   "execution_count": 22,
   "metadata": {},
   "outputs": [],
   "source": [
    "from sklearn.model_selection import train_test_split \n",
    "\n",
    "xTrain, xTest, yTrain, yTest = train_test_split( \n",
    "        xData, yData, test_size = 0.33, random_state = 365) "
   ]
  },
  {
   "cell_type": "code",
   "execution_count": 23,
   "metadata": {},
   "outputs": [
    {
     "name": "stdout",
     "output_type": "stream",
     "text": [
      "Accuracy: 0.7665497588776852\n"
     ]
    },
    {
     "name": "stderr",
     "output_type": "stream",
     "text": [
      "C:\\Users\\shahe\\Anaconda3\\lib\\site-packages\\sklearn\\linear_model\\_logistic.py:939: ConvergenceWarning: lbfgs failed to converge (status=1):\n",
      "STOP: TOTAL NO. of ITERATIONS REACHED LIMIT.\n",
      "\n",
      "Increase the number of iterations (max_iter) or scale the data as shown in:\n",
      "    https://scikit-learn.org/stable/modules/preprocessing.html.\n",
      "Please also refer to the documentation for alternative solver options:\n",
      "    https://scikit-learn.org/stable/modules/linear_model.html#logistic-regression\n",
      "  extra_warning_msg=_LOGISTIC_SOLVER_CONVERGENCE_MSG)\n"
     ]
    }
   ],
   "source": [
    "from sklearn.linear_model import LogisticRegression\n",
    "logreg = LogisticRegression()\n",
    "logreg.fit(xTrain,yTrain)\n",
    "y_pred=logreg.predict(xTest)\n",
    "\n",
    "from sklearn import metrics\n",
    "print(\"Accuracy:\",metrics.accuracy_score(yTest, y_pred))"
   ]
  },
  {
   "cell_type": "code",
   "execution_count": 24,
   "metadata": {},
   "outputs": [
    {
     "name": "stdout",
     "output_type": "stream",
     "text": [
      "99.36431389741341\n"
     ]
    }
   ],
   "source": [
    "from xgboost import XGBClassifier\n",
    "from sklearn.metrics import accuracy_score\n",
    "model = XGBClassifier()\n",
    "model.fit(xTrain, yTrain)\n",
    "y_pred=model.predict(xTest)\n",
    "print(accuracy_score(yTest, y_pred)*100)"
   ]
  },
  {
   "cell_type": "code",
   "execution_count": 20,
   "metadata": {},
   "outputs": [
    {
     "data": {
      "text/plain": [
       "RandomForestClassifier(bootstrap=True, ccp_alpha=0.0, class_weight=None,\n",
       "                       criterion='gini', max_depth=25, max_features='auto',\n",
       "                       max_leaf_nodes=None, max_samples=None,\n",
       "                       min_impurity_decrease=0.0, min_impurity_split=None,\n",
       "                       min_samples_leaf=1, min_samples_split=2,\n",
       "                       min_weight_fraction_leaf=0.0, n_estimators=100,\n",
       "                       n_jobs=None, oob_score=False, random_state=365,\n",
       "                       verbose=0, warm_start=False)"
      ]
     },
     "execution_count": 20,
     "metadata": {},
     "output_type": "execute_result"
    }
   ],
   "source": [
    "from sklearn.ensemble import RandomForestClassifier\n",
    "clf = RandomForestClassifier(max_depth=25, random_state=365)\n",
    "clf.fit(xTrain, yTrain)"
   ]
  },
  {
   "cell_type": "code",
   "execution_count": 21,
   "metadata": {},
   "outputs": [
    {
     "name": "stdout",
     "output_type": "stream",
     "text": [
      "99.05967450271248\n"
     ]
    }
   ],
   "source": [
    "y_pred=model.predict(xTest)\n",
    "print(accuracy_score(yTest, y_pred)*100)"
   ]
  },
  {
   "cell_type": "code",
   "execution_count": 7,
   "metadata": {},
   "outputs": [
    {
     "name": "stdout",
     "output_type": "stream",
     "text": [
      "99.20433996383363\n"
     ]
    }
   ],
   "source": [
    "from sklearn.svm import SVC\n",
    "from sklearn.preprocessing import StandardScaler\n",
    "from sklearn.pipeline import make_pipeline\n",
    "clf = make_pipeline(StandardScaler(), SVC(gamma='auto'))\n",
    "clf.fit(xTrain, yTrain)\n",
    "\n",
    "y_pred=model.predict(xTest)\n",
    "print(accuracy_score(yTest, y_pred)*100)"
   ]
  },
  {
   "cell_type": "code",
   "execution_count": 8,
   "metadata": {},
   "outputs": [
    {
     "data": {
      "text/html": [
       "<div>\n",
       "<style scoped>\n",
       "    .dataframe tbody tr th:only-of-type {\n",
       "        vertical-align: middle;\n",
       "    }\n",
       "\n",
       "    .dataframe tbody tr th {\n",
       "        vertical-align: top;\n",
       "    }\n",
       "\n",
       "    .dataframe thead th {\n",
       "        text-align: right;\n",
       "    }\n",
       "</style>\n",
       "<table border=\"1\" class=\"dataframe\">\n",
       "  <thead>\n",
       "    <tr style=\"text-align: right;\">\n",
       "      <th></th>\n",
       "      <th>Solidity</th>\n",
       "      <th>Eccentricity</th>\n",
       "      <th>EquivDiameter</th>\n",
       "      <th>Extrema</th>\n",
       "      <th>FilledArea</th>\n",
       "      <th>Extent</th>\n",
       "      <th>Orientation</th>\n",
       "      <th>EulerNumber</th>\n",
       "      <th>BoundingBox1</th>\n",
       "      <th>BoundingBox2</th>\n",
       "      <th>...</th>\n",
       "      <th>ConvexHull2</th>\n",
       "      <th>ConvexHull3</th>\n",
       "      <th>ConvexHull4</th>\n",
       "      <th>MajorAxisLength</th>\n",
       "      <th>MinorAxisLength</th>\n",
       "      <th>Perimeter</th>\n",
       "      <th>ConvexArea</th>\n",
       "      <th>Centroid1</th>\n",
       "      <th>Centroid2</th>\n",
       "      <th>Area</th>\n",
       "    </tr>\n",
       "  </thead>\n",
       "  <tbody>\n",
       "    <tr>\n",
       "      <th>0</th>\n",
       "      <td>0.226508</td>\n",
       "      <td>0.919736</td>\n",
       "      <td>0.396523</td>\n",
       "      <td>0.821764</td>\n",
       "      <td>0.124955</td>\n",
       "      <td>0.182526</td>\n",
       "      <td>0.625360</td>\n",
       "      <td>0.880161</td>\n",
       "      <td>0.593651</td>\n",
       "      <td>0.130053</td>\n",
       "      <td>...</td>\n",
       "      <td>0.592030</td>\n",
       "      <td>0.593651</td>\n",
       "      <td>0.594286</td>\n",
       "      <td>0.246947</td>\n",
       "      <td>0.114904</td>\n",
       "      <td>0.258217</td>\n",
       "      <td>0.050894</td>\n",
       "      <td>0.735949</td>\n",
       "      <td>0.224618</td>\n",
       "      <td>0.177666</td>\n",
       "    </tr>\n",
       "    <tr>\n",
       "      <th>1</th>\n",
       "      <td>0.131249</td>\n",
       "      <td>0.839202</td>\n",
       "      <td>0.189765</td>\n",
       "      <td>0.779862</td>\n",
       "      <td>0.024801</td>\n",
       "      <td>0.102111</td>\n",
       "      <td>0.903063</td>\n",
       "      <td>0.930178</td>\n",
       "      <td>0.697143</td>\n",
       "      <td>0.148506</td>\n",
       "      <td>...</td>\n",
       "      <td>0.755218</td>\n",
       "      <td>0.698413</td>\n",
       "      <td>0.697143</td>\n",
       "      <td>0.168388</td>\n",
       "      <td>0.110807</td>\n",
       "      <td>0.086619</td>\n",
       "      <td>0.024327</td>\n",
       "      <td>0.782927</td>\n",
       "      <td>0.277804</td>\n",
       "      <td>0.049141</td>\n",
       "    </tr>\n",
       "    <tr>\n",
       "      <th>2</th>\n",
       "      <td>0.356525</td>\n",
       "      <td>0.950434</td>\n",
       "      <td>0.115916</td>\n",
       "      <td>0.711069</td>\n",
       "      <td>0.010689</td>\n",
       "      <td>0.218164</td>\n",
       "      <td>0.860724</td>\n",
       "      <td>0.969789</td>\n",
       "      <td>0.674286</td>\n",
       "      <td>0.324253</td>\n",
       "      <td>...</td>\n",
       "      <td>0.719165</td>\n",
       "      <td>0.679365</td>\n",
       "      <td>0.676190</td>\n",
       "      <td>0.077268</td>\n",
       "      <td>0.027995</td>\n",
       "      <td>0.023458</td>\n",
       "      <td>0.004147</td>\n",
       "      <td>0.683484</td>\n",
       "      <td>0.365322</td>\n",
       "      <td>0.022188</td>\n",
       "    </tr>\n",
       "    <tr>\n",
       "      <th>3</th>\n",
       "      <td>0.338935</td>\n",
       "      <td>0.828545</td>\n",
       "      <td>0.029171</td>\n",
       "      <td>0.450281</td>\n",
       "      <td>0.001548</td>\n",
       "      <td>0.256960</td>\n",
       "      <td>0.188719</td>\n",
       "      <td>0.995300</td>\n",
       "      <td>0.440635</td>\n",
       "      <td>0.533392</td>\n",
       "      <td>...</td>\n",
       "      <td>0.452245</td>\n",
       "      <td>0.451429</td>\n",
       "      <td>0.448889</td>\n",
       "      <td>0.020454</td>\n",
       "      <td>0.016625</td>\n",
       "      <td>0.010399</td>\n",
       "      <td>0.000735</td>\n",
       "      <td>0.439275</td>\n",
       "      <td>0.530411</td>\n",
       "      <td>0.003269</td>\n",
       "    </tr>\n",
       "    <tr>\n",
       "      <th>4</th>\n",
       "      <td>0.532809</td>\n",
       "      <td>0.747284</td>\n",
       "      <td>0.139494</td>\n",
       "      <td>0.813557</td>\n",
       "      <td>0.019737</td>\n",
       "      <td>0.485427</td>\n",
       "      <td>0.205856</td>\n",
       "      <td>0.973289</td>\n",
       "      <td>0.805078</td>\n",
       "      <td>0.815014</td>\n",
       "      <td>...</td>\n",
       "      <td>0.806157</td>\n",
       "      <td>0.806001</td>\n",
       "      <td>0.805078</td>\n",
       "      <td>0.042423</td>\n",
       "      <td>0.038444</td>\n",
       "      <td>0.019337</td>\n",
       "      <td>0.003800</td>\n",
       "      <td>0.825515</td>\n",
       "      <td>0.826488</td>\n",
       "      <td>0.031852</td>\n",
       "    </tr>\n",
       "  </tbody>\n",
       "</table>\n",
       "<p>5 rows × 23 columns</p>\n",
       "</div>"
      ],
      "text/plain": [
       "   Solidity  Eccentricity  EquivDiameter   Extrema  FilledArea    Extent  \\\n",
       "0  0.226508      0.919736       0.396523  0.821764    0.124955  0.182526   \n",
       "1  0.131249      0.839202       0.189765  0.779862    0.024801  0.102111   \n",
       "2  0.356525      0.950434       0.115916  0.711069    0.010689  0.218164   \n",
       "3  0.338935      0.828545       0.029171  0.450281    0.001548  0.256960   \n",
       "4  0.532809      0.747284       0.139494  0.813557    0.019737  0.485427   \n",
       "\n",
       "   Orientation  EulerNumber  BoundingBox1  BoundingBox2    ...     \\\n",
       "0     0.625360     0.880161      0.593651      0.130053    ...      \n",
       "1     0.903063     0.930178      0.697143      0.148506    ...      \n",
       "2     0.860724     0.969789      0.674286      0.324253    ...      \n",
       "3     0.188719     0.995300      0.440635      0.533392    ...      \n",
       "4     0.205856     0.973289      0.805078      0.815014    ...      \n",
       "\n",
       "   ConvexHull2  ConvexHull3  ConvexHull4  MajorAxisLength  MinorAxisLength  \\\n",
       "0     0.592030     0.593651     0.594286         0.246947         0.114904   \n",
       "1     0.755218     0.698413     0.697143         0.168388         0.110807   \n",
       "2     0.719165     0.679365     0.676190         0.077268         0.027995   \n",
       "3     0.452245     0.451429     0.448889         0.020454         0.016625   \n",
       "4     0.806157     0.806001     0.805078         0.042423         0.038444   \n",
       "\n",
       "   Perimeter  ConvexArea  Centroid1  Centroid2      Area  \n",
       "0   0.258217    0.050894   0.735949   0.224618  0.177666  \n",
       "1   0.086619    0.024327   0.782927   0.277804  0.049141  \n",
       "2   0.023458    0.004147   0.683484   0.365322  0.022188  \n",
       "3   0.010399    0.000735   0.439275   0.530411  0.003269  \n",
       "4   0.019337    0.003800   0.825515   0.826488  0.031852  \n",
       "\n",
       "[5 rows x 23 columns]"
      ]
     },
     "execution_count": 8,
     "metadata": {},
     "output_type": "execute_result"
    }
   ],
   "source": [
    "test_data = pd.read_csv('https://raw.githubusercontent.com/dphi-official/Datasets/master/sukhna_dhanas/test_set_label.csv')\n",
    "test_data.head()"
   ]
  },
  {
   "cell_type": "code",
   "execution_count": 9,
   "metadata": {},
   "outputs": [
    {
     "name": "stdout",
     "output_type": "stream",
     "text": [
      "3456\n"
     ]
    }
   ],
   "source": [
    "print(len(test_data))\n",
    "vals = model.predict(test_data.values)"
   ]
  },
  {
   "cell_type": "code",
   "execution_count": 28,
   "metadata": {},
   "outputs": [],
   "source": [
    "import xlsxwriter\n",
    "\n",
    "workbook = xlsxwriter.Workbook('C:/Users/shahe/Desktop/OrganismPredictor.xlsx')\n",
    "\n",
    "worksheet = workbook.add_worksheet()\n",
    "\n",
    "worksheet.write(0,0,\"prediction\")\n",
    "\n",
    "row = 1\n",
    "column = 0\n",
    "for i in vals:\n",
    "    worksheet.write(row, column, i)\n",
    "    row = row + 1\n",
    "    \n",
    "workbook.close()"
   ]
  },
  {
   "cell_type": "code",
   "execution_count": 10,
   "metadata": {},
   "outputs": [
    {
     "data": {
      "text/plain": [
       "array([3, 2, 2, ..., 4, 2, 1], dtype=int64)"
      ]
     },
     "execution_count": 10,
     "metadata": {},
     "output_type": "execute_result"
    }
   ],
   "source": [
    "vals"
   ]
  },
  {
   "cell_type": "code",
   "execution_count": 11,
   "metadata": {},
   "outputs": [],
   "source": [
    "res = pd.DataFrame(vals)"
   ]
  },
  {
   "cell_type": "code",
   "execution_count": 13,
   "metadata": {},
   "outputs": [],
   "source": [
    "res.columns = [\"prediction\"]"
   ]
  },
  {
   "cell_type": "code",
   "execution_count": 14,
   "metadata": {},
   "outputs": [],
   "source": [
    "res.to_csv(\"prediction_results_SS.csv\", index = False)"
   ]
  },
  {
   "cell_type": "code",
   "execution_count": null,
   "metadata": {},
   "outputs": [],
   "source": []
  }
 ],
 "metadata": {
  "kernelspec": {
   "display_name": "Python 3",
   "language": "python",
   "name": "python3"
  },
  "language_info": {
   "codemirror_mode": {
    "name": "ipython",
    "version": 3
   },
   "file_extension": ".py",
   "mimetype": "text/x-python",
   "name": "python",
   "nbconvert_exporter": "python",
   "pygments_lexer": "ipython3",
   "version": "3.7.1"
  }
 },
 "nbformat": 4,
 "nbformat_minor": 2
}
