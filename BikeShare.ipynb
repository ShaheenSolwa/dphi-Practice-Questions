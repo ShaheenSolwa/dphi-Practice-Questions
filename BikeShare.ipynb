{
 "cells": [
  {
   "cell_type": "code",
   "execution_count": 1,
   "metadata": {},
   "outputs": [
    {
     "data": {
      "text/html": [
       "<div>\n",
       "<style scoped>\n",
       "    .dataframe tbody tr th:only-of-type {\n",
       "        vertical-align: middle;\n",
       "    }\n",
       "\n",
       "    .dataframe tbody tr th {\n",
       "        vertical-align: top;\n",
       "    }\n",
       "\n",
       "    .dataframe thead th {\n",
       "        text-align: right;\n",
       "    }\n",
       "</style>\n",
       "<table border=\"1\" class=\"dataframe\">\n",
       "  <thead>\n",
       "    <tr style=\"text-align: right;\">\n",
       "      <th></th>\n",
       "      <th>Duration</th>\n",
       "      <th>Start date</th>\n",
       "      <th>End date</th>\n",
       "      <th>Start station number</th>\n",
       "      <th>Start station</th>\n",
       "      <th>End station number</th>\n",
       "      <th>End station</th>\n",
       "      <th>Bike number</th>\n",
       "      <th>Member type</th>\n",
       "    </tr>\n",
       "  </thead>\n",
       "  <tbody>\n",
       "    <tr>\n",
       "      <th>0</th>\n",
       "      <td>427</td>\n",
       "      <td>2019-01-18 15:26:26</td>\n",
       "      <td>2019-01-18 15:33:33</td>\n",
       "      <td>31600</td>\n",
       "      <td>5th &amp; K St NW</td>\n",
       "      <td>31503</td>\n",
       "      <td>Florida Ave &amp; R St NW</td>\n",
       "      <td>W22947</td>\n",
       "      <td>1</td>\n",
       "    </tr>\n",
       "    <tr>\n",
       "      <th>1</th>\n",
       "      <td>510</td>\n",
       "      <td>2019-09-11 23:19:49</td>\n",
       "      <td>2019-09-11 23:28:19</td>\n",
       "      <td>31283</td>\n",
       "      <td>14th &amp; L St NW</td>\n",
       "      <td>31229</td>\n",
       "      <td>New Hampshire Ave &amp; T St NW</td>\n",
       "      <td>78595</td>\n",
       "      <td>1</td>\n",
       "    </tr>\n",
       "    <tr>\n",
       "      <th>2</th>\n",
       "      <td>644</td>\n",
       "      <td>2019-05-01 08:25:16</td>\n",
       "      <td>2019-05-01 08:36:00</td>\n",
       "      <td>31214</td>\n",
       "      <td>17th &amp; Corcoran St NW</td>\n",
       "      <td>31230</td>\n",
       "      <td>Metro Center / 12th &amp; G St NW</td>\n",
       "      <td>W22374</td>\n",
       "      <td>1</td>\n",
       "    </tr>\n",
       "    <tr>\n",
       "      <th>3</th>\n",
       "      <td>748</td>\n",
       "      <td>2019-04-30 09:16:15</td>\n",
       "      <td>2019-04-30 09:28:43</td>\n",
       "      <td>31058</td>\n",
       "      <td>Columbia Pike &amp; S Oakland St</td>\n",
       "      <td>31026</td>\n",
       "      <td>Washington Blvd &amp; 10th St N</td>\n",
       "      <td>W23073</td>\n",
       "      <td>1</td>\n",
       "    </tr>\n",
       "    <tr>\n",
       "      <th>4</th>\n",
       "      <td>284</td>\n",
       "      <td>2019-07-26 12:32:35</td>\n",
       "      <td>2019-07-26 12:37:19</td>\n",
       "      <td>31230</td>\n",
       "      <td>Metro Center / 12th &amp; G St NW</td>\n",
       "      <td>31620</td>\n",
       "      <td>5th &amp; F St NW</td>\n",
       "      <td>W00951</td>\n",
       "      <td>1</td>\n",
       "    </tr>\n",
       "  </tbody>\n",
       "</table>\n",
       "</div>"
      ],
      "text/plain": [
       "   Duration           Start date             End date  Start station number  \\\n",
       "0       427  2019-01-18 15:26:26  2019-01-18 15:33:33                 31600   \n",
       "1       510  2019-09-11 23:19:49  2019-09-11 23:28:19                 31283   \n",
       "2       644  2019-05-01 08:25:16  2019-05-01 08:36:00                 31214   \n",
       "3       748  2019-04-30 09:16:15  2019-04-30 09:28:43                 31058   \n",
       "4       284  2019-07-26 12:32:35  2019-07-26 12:37:19                 31230   \n",
       "\n",
       "                   Start station  End station number  \\\n",
       "0                  5th & K St NW               31503   \n",
       "1                 14th & L St NW               31229   \n",
       "2          17th & Corcoran St NW               31230   \n",
       "3   Columbia Pike & S Oakland St               31026   \n",
       "4  Metro Center / 12th & G St NW               31620   \n",
       "\n",
       "                     End station Bike number  Member type  \n",
       "0          Florida Ave & R St NW      W22947            1  \n",
       "1    New Hampshire Ave & T St NW       78595            1  \n",
       "2  Metro Center / 12th & G St NW      W22374            1  \n",
       "3    Washington Blvd & 10th St N      W23073            1  \n",
       "4                  5th & F St NW      W00951            1  "
      ]
     },
     "execution_count": 1,
     "metadata": {},
     "output_type": "execute_result"
    }
   ],
   "source": [
    "import pandas as pd\n",
    "\n",
    "data = pd.read_csv(r'C:/Users/shahe/Desktop/bikeTrain.csv')\n",
    "\n",
    "data.head()"
   ]
  },
  {
   "cell_type": "code",
   "execution_count": 2,
   "metadata": {},
   "outputs": [],
   "source": [
    "data.fillna(0, inplace=True)"
   ]
  },
  {
   "cell_type": "code",
   "execution_count": 3,
   "metadata": {},
   "outputs": [
    {
     "data": {
      "text/html": [
       "<div>\n",
       "<style scoped>\n",
       "    .dataframe tbody tr th:only-of-type {\n",
       "        vertical-align: middle;\n",
       "    }\n",
       "\n",
       "    .dataframe tbody tr th {\n",
       "        vertical-align: top;\n",
       "    }\n",
       "\n",
       "    .dataframe thead th {\n",
       "        text-align: right;\n",
       "    }\n",
       "</style>\n",
       "<table border=\"1\" class=\"dataframe\">\n",
       "  <thead>\n",
       "    <tr style=\"text-align: right;\">\n",
       "      <th></th>\n",
       "      <th>Duration</th>\n",
       "      <th>Start date</th>\n",
       "      <th>End date</th>\n",
       "      <th>Start station number</th>\n",
       "      <th>Start station</th>\n",
       "      <th>End station number</th>\n",
       "      <th>End station</th>\n",
       "      <th>Bike number</th>\n",
       "      <th>Member type</th>\n",
       "    </tr>\n",
       "  </thead>\n",
       "  <tbody>\n",
       "    <tr>\n",
       "      <th>0</th>\n",
       "      <td>427</td>\n",
       "      <td>2019-01-18 15:26:26</td>\n",
       "      <td>2019-01-18 15:33:33</td>\n",
       "      <td>31600</td>\n",
       "      <td>5th &amp; K St NW</td>\n",
       "      <td>31503</td>\n",
       "      <td>Florida Ave &amp; R St NW</td>\n",
       "      <td>W22947</td>\n",
       "      <td>1</td>\n",
       "    </tr>\n",
       "    <tr>\n",
       "      <th>1</th>\n",
       "      <td>510</td>\n",
       "      <td>2019-09-11 23:19:49</td>\n",
       "      <td>2019-09-11 23:28:19</td>\n",
       "      <td>31283</td>\n",
       "      <td>14th &amp; L St NW</td>\n",
       "      <td>31229</td>\n",
       "      <td>New Hampshire Ave &amp; T St NW</td>\n",
       "      <td>78595</td>\n",
       "      <td>1</td>\n",
       "    </tr>\n",
       "    <tr>\n",
       "      <th>2</th>\n",
       "      <td>644</td>\n",
       "      <td>2019-05-01 08:25:16</td>\n",
       "      <td>2019-05-01 08:36:00</td>\n",
       "      <td>31214</td>\n",
       "      <td>17th &amp; Corcoran St NW</td>\n",
       "      <td>31230</td>\n",
       "      <td>Metro Center / 12th &amp; G St NW</td>\n",
       "      <td>W22374</td>\n",
       "      <td>1</td>\n",
       "    </tr>\n",
       "    <tr>\n",
       "      <th>3</th>\n",
       "      <td>748</td>\n",
       "      <td>2019-04-30 09:16:15</td>\n",
       "      <td>2019-04-30 09:28:43</td>\n",
       "      <td>31058</td>\n",
       "      <td>Columbia Pike &amp; S Oakland St</td>\n",
       "      <td>31026</td>\n",
       "      <td>Washington Blvd &amp; 10th St N</td>\n",
       "      <td>W23073</td>\n",
       "      <td>1</td>\n",
       "    </tr>\n",
       "    <tr>\n",
       "      <th>4</th>\n",
       "      <td>284</td>\n",
       "      <td>2019-07-26 12:32:35</td>\n",
       "      <td>2019-07-26 12:37:19</td>\n",
       "      <td>31230</td>\n",
       "      <td>Metro Center / 12th &amp; G St NW</td>\n",
       "      <td>31620</td>\n",
       "      <td>5th &amp; F St NW</td>\n",
       "      <td>W00951</td>\n",
       "      <td>1</td>\n",
       "    </tr>\n",
       "  </tbody>\n",
       "</table>\n",
       "</div>"
      ],
      "text/plain": [
       "   Duration           Start date             End date  Start station number  \\\n",
       "0       427  2019-01-18 15:26:26  2019-01-18 15:33:33                 31600   \n",
       "1       510  2019-09-11 23:19:49  2019-09-11 23:28:19                 31283   \n",
       "2       644  2019-05-01 08:25:16  2019-05-01 08:36:00                 31214   \n",
       "3       748  2019-04-30 09:16:15  2019-04-30 09:28:43                 31058   \n",
       "4       284  2019-07-26 12:32:35  2019-07-26 12:37:19                 31230   \n",
       "\n",
       "                   Start station  End station number  \\\n",
       "0                  5th & K St NW               31503   \n",
       "1                 14th & L St NW               31229   \n",
       "2          17th & Corcoran St NW               31230   \n",
       "3   Columbia Pike & S Oakland St               31026   \n",
       "4  Metro Center / 12th & G St NW               31620   \n",
       "\n",
       "                     End station Bike number  Member type  \n",
       "0          Florida Ave & R St NW      W22947            1  \n",
       "1    New Hampshire Ave & T St NW       78595            1  \n",
       "2  Metro Center / 12th & G St NW      W22374            1  \n",
       "3    Washington Blvd & 10th St N      W23073            1  \n",
       "4                  5th & F St NW      W00951            1  "
      ]
     },
     "execution_count": 3,
     "metadata": {},
     "output_type": "execute_result"
    }
   ],
   "source": [
    "data.head()"
   ]
  },
  {
   "cell_type": "code",
   "execution_count": 4,
   "metadata": {},
   "outputs": [],
   "source": [
    "data['Bike number'] = data['Bike number'].str.replace('W.', '', regex=True)"
   ]
  },
  {
   "cell_type": "code",
   "execution_count": 5,
   "metadata": {},
   "outputs": [],
   "source": [
    "data['Bike number'] = data['Bike number'].str.replace('E.', '', regex=True)"
   ]
  },
  {
   "cell_type": "code",
   "execution_count": 12,
   "metadata": {},
   "outputs": [],
   "source": [
    "X = data[['Duration','Bike number']]\n",
    "Y = data['Member type']\n",
    "\n",
    "xData = X.values\n",
    "yData = Y.values"
   ]
  },
  {
   "cell_type": "code",
   "execution_count": 13,
   "metadata": {},
   "outputs": [],
   "source": [
    "from sklearn.model_selection import train_test_split \n",
    "\n",
    "xTrain, xTest, yTrain, yTest = train_test_split( \n",
    "        xData, yData, test_size = 0.33, random_state = 365) "
   ]
  },
  {
   "cell_type": "code",
   "execution_count": 14,
   "metadata": {},
   "outputs": [
    {
     "name": "stdout",
     "output_type": "stream",
     "text": [
      "88.09467387220761\n"
     ]
    }
   ],
   "source": [
    "from xgboost import XGBClassifier\n",
    "from sklearn.metrics import accuracy_score\n",
    "model = XGBClassifier()\n",
    "model.fit(xTrain, yTrain)\n",
    "y_pred=model.predict(xTest)\n",
    "print(accuracy_score(yTest, y_pred)*100)"
   ]
  },
  {
   "cell_type": "code",
   "execution_count": 25,
   "metadata": {},
   "outputs": [],
   "source": [
    "test = pd.read_csv(r'C:/Users/shahe/Desktop/bikeTest.csv')"
   ]
  },
  {
   "cell_type": "code",
   "execution_count": 26,
   "metadata": {},
   "outputs": [],
   "source": [
    "test['Bike number'] = test['Bike number'].str.replace('W.', '', regex=True)\n",
    "test['Bike number'] = test['Bike number'].str.replace('E.', '', regex=True)\n",
    "x = test[['Duration','Bike number']]"
   ]
  },
  {
   "cell_type": "code",
   "execution_count": 27,
   "metadata": {},
   "outputs": [],
   "source": [
    "vals = model.predict(x.values)"
   ]
  },
  {
   "cell_type": "code",
   "execution_count": 28,
   "metadata": {},
   "outputs": [],
   "source": [
    "res = pd.DataFrame(vals)\n",
    "res.columns = [\"prediction\"]\n",
    "res.to_csv(\"BikeSharePred.csv\", index = False)"
   ]
  },
  {
   "cell_type": "code",
   "execution_count": null,
   "metadata": {},
   "outputs": [],
   "source": []
  }
 ],
 "metadata": {
  "kernelspec": {
   "display_name": "Python 3",
   "language": "python",
   "name": "python3"
  },
  "language_info": {
   "codemirror_mode": {
    "name": "ipython",
    "version": 3
   },
   "file_extension": ".py",
   "mimetype": "text/x-python",
   "name": "python",
   "nbconvert_exporter": "python",
   "pygments_lexer": "ipython3",
   "version": "3.7.1"
  }
 },
 "nbformat": 4,
 "nbformat_minor": 2
}
