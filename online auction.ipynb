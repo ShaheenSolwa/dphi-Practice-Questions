{
 "cells": [
  {
   "cell_type": "code",
   "execution_count": 1,
   "metadata": {},
   "outputs": [
    {
     "data": {
      "text/html": [
       "<div>\n",
       "<style scoped>\n",
       "    .dataframe tbody tr th:only-of-type {\n",
       "        vertical-align: middle;\n",
       "    }\n",
       "\n",
       "    .dataframe tbody tr th {\n",
       "        vertical-align: top;\n",
       "    }\n",
       "\n",
       "    .dataframe thead th {\n",
       "        text-align: right;\n",
       "    }\n",
       "</style>\n",
       "<table border=\"1\" class=\"dataframe\">\n",
       "  <thead>\n",
       "    <tr style=\"text-align: right;\">\n",
       "      <th></th>\n",
       "      <th>auctionid</th>\n",
       "      <th>bid</th>\n",
       "      <th>bidtime</th>\n",
       "      <th>bidder</th>\n",
       "      <th>bidderrate</th>\n",
       "      <th>openbid</th>\n",
       "      <th>price</th>\n",
       "    </tr>\n",
       "  </thead>\n",
       "  <tbody>\n",
       "    <tr>\n",
       "      <th>0</th>\n",
       "      <td>1644594033</td>\n",
       "      <td>493.0</td>\n",
       "      <td>6.999456</td>\n",
       "      <td>boraborabora</td>\n",
       "      <td>67</td>\n",
       "      <td>9.99</td>\n",
       "      <td>498.00</td>\n",
       "    </tr>\n",
       "    <tr>\n",
       "      <th>1</th>\n",
       "      <td>1639309309</td>\n",
       "      <td>30.0</td>\n",
       "      <td>1.669618</td>\n",
       "      <td>aclbjc</td>\n",
       "      <td>0</td>\n",
       "      <td>1.00</td>\n",
       "      <td>374.99</td>\n",
       "    </tr>\n",
       "    <tr>\n",
       "      <th>2</th>\n",
       "      <td>1644109746</td>\n",
       "      <td>3103.0</td>\n",
       "      <td>6.917986</td>\n",
       "      <td>nelsoncpm</td>\n",
       "      <td>7</td>\n",
       "      <td>1.00</td>\n",
       "      <td>3103.00</td>\n",
       "    </tr>\n",
       "    <tr>\n",
       "      <th>3</th>\n",
       "      <td>1649858595</td>\n",
       "      <td>175.0</td>\n",
       "      <td>3.107014</td>\n",
       "      <td>pialu9</td>\n",
       "      <td>4</td>\n",
       "      <td>7.99</td>\n",
       "      <td>202.50</td>\n",
       "    </tr>\n",
       "    <tr>\n",
       "      <th>4</th>\n",
       "      <td>1647846714</td>\n",
       "      <td>226.0</td>\n",
       "      <td>2.721319</td>\n",
       "      <td>geemeetee@aol.com</td>\n",
       "      <td>17</td>\n",
       "      <td>1.00</td>\n",
       "      <td>905.45</td>\n",
       "    </tr>\n",
       "  </tbody>\n",
       "</table>\n",
       "</div>"
      ],
      "text/plain": [
       "    auctionid     bid   bidtime             bidder  bidderrate  openbid  \\\n",
       "0  1644594033   493.0  6.999456       boraborabora          67     9.99   \n",
       "1  1639309309    30.0  1.669618             aclbjc           0     1.00   \n",
       "2  1644109746  3103.0  6.917986          nelsoncpm           7     1.00   \n",
       "3  1649858595   175.0  3.107014             pialu9           4     7.99   \n",
       "4  1647846714   226.0  2.721319  geemeetee@aol.com          17     1.00   \n",
       "\n",
       "     price  \n",
       "0   498.00  \n",
       "1   374.99  \n",
       "2  3103.00  \n",
       "3   202.50  \n",
       "4   905.45  "
      ]
     },
     "execution_count": 1,
     "metadata": {},
     "output_type": "execute_result"
    }
   ],
   "source": [
    "import pandas as pd\n",
    "\n",
    "data = pd.read_csv(\"https://raw.githubusercontent.com/dphi-official/Datasets/master/auction_data/train_set_label.csv\" )\n",
    "\n",
    "data.head()"
   ]
  },
  {
   "cell_type": "code",
   "execution_count": 2,
   "metadata": {},
   "outputs": [],
   "source": [
    "X = data[['bid', 'bidtime', 'bidderrate', 'openbid']]\n",
    "Y = data.price\n",
    "\n",
    "xData = X.values\n",
    "yData = Y.values"
   ]
  },
  {
   "cell_type": "code",
   "execution_count": 3,
   "metadata": {},
   "outputs": [],
   "source": [
    "from sklearn.model_selection import train_test_split \n",
    "\n",
    "xTrain, xTest, yTrain, yTest = train_test_split( \n",
    "        xData, yData, test_size = 0.33, random_state = 365) "
   ]
  },
  {
   "cell_type": "code",
   "execution_count": 4,
   "metadata": {},
   "outputs": [
    {
     "data": {
      "text/plain": [
       "126184.35650017494"
      ]
     },
     "execution_count": 4,
     "metadata": {},
     "output_type": "execute_result"
    }
   ],
   "source": [
    "from sklearn.linear_model import LinearRegression\n",
    "from sklearn.metrics import mean_squared_error\n",
    "reg = LinearRegression()\n",
    "\n",
    "reg.fit(xTrain, yTrain)\n",
    "\n",
    "y_pred = reg.predict(xTest)\n",
    "mean_squared_error(yTest, y_pred)"
   ]
  },
  {
   "cell_type": "code",
   "execution_count": 8,
   "metadata": {},
   "outputs": [
    {
     "data": {
      "text/plain": [
       "145019.64931645885"
      ]
     },
     "execution_count": 8,
     "metadata": {},
     "output_type": "execute_result"
    }
   ],
   "source": [
    "from xgboost import XGBClassifier\n",
    "from sklearn.metrics import accuracy_score\n",
    "model = XGBClassifier()\n",
    "model.fit(xTrain, yTrain)\n",
    "y_pred=model.predict(xTest)\n",
    "mean_squared_error(yTest, y_pred)"
   ]
  },
  {
   "cell_type": "code",
   "execution_count": 12,
   "metadata": {},
   "outputs": [
    {
     "data": {
      "text/html": [
       "<div>\n",
       "<style scoped>\n",
       "    .dataframe tbody tr th:only-of-type {\n",
       "        vertical-align: middle;\n",
       "    }\n",
       "\n",
       "    .dataframe tbody tr th {\n",
       "        vertical-align: top;\n",
       "    }\n",
       "\n",
       "    .dataframe thead th {\n",
       "        text-align: right;\n",
       "    }\n",
       "</style>\n",
       "<table border=\"1\" class=\"dataframe\">\n",
       "  <thead>\n",
       "    <tr style=\"text-align: right;\">\n",
       "      <th></th>\n",
       "      <th>auctionid</th>\n",
       "      <th>bid</th>\n",
       "      <th>bidtime</th>\n",
       "      <th>bidder</th>\n",
       "      <th>bidderrate</th>\n",
       "      <th>openbid</th>\n",
       "    </tr>\n",
       "  </thead>\n",
       "  <tbody>\n",
       "    <tr>\n",
       "      <th>0</th>\n",
       "      <td>1640550476</td>\n",
       "      <td>175.00</td>\n",
       "      <td>4.329410</td>\n",
       "      <td>simonho2001sg</td>\n",
       "      <td>8</td>\n",
       "      <td>1.0</td>\n",
       "    </tr>\n",
       "    <tr>\n",
       "      <th>1</th>\n",
       "      <td>1644343468</td>\n",
       "      <td>111.11</td>\n",
       "      <td>0.587164</td>\n",
       "      <td>tab999@msn.com</td>\n",
       "      <td>84</td>\n",
       "      <td>1.0</td>\n",
       "    </tr>\n",
       "    <tr>\n",
       "      <th>2</th>\n",
       "      <td>1639979107</td>\n",
       "      <td>103.50</td>\n",
       "      <td>6.999572</td>\n",
       "      <td>inyerdrms</td>\n",
       "      <td>2</td>\n",
       "      <td>5.0</td>\n",
       "    </tr>\n",
       "    <tr>\n",
       "      <th>3</th>\n",
       "      <td>1649718196</td>\n",
       "      <td>620.00</td>\n",
       "      <td>2.750775</td>\n",
       "      <td>kjr2306</td>\n",
       "      <td>24</td>\n",
       "      <td>1.0</td>\n",
       "    </tr>\n",
       "    <tr>\n",
       "      <th>4</th>\n",
       "      <td>1644077820</td>\n",
       "      <td>60.00</td>\n",
       "      <td>1.393611</td>\n",
       "      <td>chevysred</td>\n",
       "      <td>-1</td>\n",
       "      <td>1.0</td>\n",
       "    </tr>\n",
       "  </tbody>\n",
       "</table>\n",
       "</div>"
      ],
      "text/plain": [
       "    auctionid     bid   bidtime          bidder  bidderrate  openbid\n",
       "0  1640550476  175.00  4.329410   simonho2001sg           8      1.0\n",
       "1  1644343468  111.11  0.587164  tab999@msn.com          84      1.0\n",
       "2  1639979107  103.50  6.999572       inyerdrms           2      5.0\n",
       "3  1649718196  620.00  2.750775         kjr2306          24      1.0\n",
       "4  1644077820   60.00  1.393611       chevysred          -1      1.0"
      ]
     },
     "execution_count": 12,
     "metadata": {},
     "output_type": "execute_result"
    }
   ],
   "source": [
    "test_data = pd.read_csv('https://raw.githubusercontent.com/dphi-official/Datasets/master/auction_data/test_set_label.csv')\n",
    "test_data.head()"
   ]
  },
  {
   "cell_type": "code",
   "execution_count": 16,
   "metadata": {},
   "outputs": [],
   "source": [
    "test_data = test_data[['bid', 'bidtime', 'bidderrate', 'openbid']]\n",
    "vals = reg.predict(test_data.values)"
   ]
  },
  {
   "cell_type": "code",
   "execution_count": 17,
   "metadata": {},
   "outputs": [],
   "source": [
    "res = pd.DataFrame(vals)\n",
    "res.columns = [\"prediction\"]\n",
    "res.to_csv(\"Bidprediction.csv\", index = False)"
   ]
  },
  {
   "cell_type": "code",
   "execution_count": null,
   "metadata": {},
   "outputs": [],
   "source": []
  }
 ],
 "metadata": {
  "kernelspec": {
   "display_name": "Python 3",
   "language": "python",
   "name": "python3"
  },
  "language_info": {
   "codemirror_mode": {
    "name": "ipython",
    "version": 3
   },
   "file_extension": ".py",
   "mimetype": "text/x-python",
   "name": "python",
   "nbconvert_exporter": "python",
   "pygments_lexer": "ipython3",
   "version": "3.7.1"
  }
 },
 "nbformat": 4,
 "nbformat_minor": 2
}
